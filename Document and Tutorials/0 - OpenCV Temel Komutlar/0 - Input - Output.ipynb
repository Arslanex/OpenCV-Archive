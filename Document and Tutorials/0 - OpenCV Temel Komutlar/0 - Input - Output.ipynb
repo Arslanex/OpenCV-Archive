{
 "cells": [
  {
   "cell_type": "markdown",
   "source": [
    "# Resimler ile İşlemler\n",
    "OpenCV kütüphanesi C++, Java ve Python kütüphaneleri ile uyumlu çalışan bir görüntü işleme kütüphanesidir. Resimler ve videolar üzerinde bir çok işlem yapabilmemize olanak sağlayan bu kütüphane bilgisayar görüsü ile ilgili neredeyse her yerde bulunur. Bu yazı da OpenCV kullanarak resimleri içe aktarma, ekranda gösterme ve bilgisayara kayıt etme işlemlerini işleyecek.\n",
    "\n",
    "- imread()      :: resimi içe aktarma\n",
    "- imshow()      :: resimi ekranda gösterme\n",
    "- imwrite()     :: resimi bilgisayara kayıt etme"
   ],
   "metadata": {
    "collapsed": false
   }
  },
  {
   "cell_type": "code",
   "execution_count": null,
   "metadata": {
    "collapsed": true
   },
   "outputs": [],
   "source": [
    "# OpenCV kütüphanemizi içe aktarıyoruz\n",
    "import cv2 as cv"
   ]
  },
  {
   "cell_type": "code",
   "execution_count": null,
   "outputs": [],
   "source": [
    "# Resimi içe aktarıyoruz\n",
    "img = cv.imread(\"img.jpg\") # hedef resimin dosya konumu"
   ],
   "metadata": {
    "collapsed": false,
    "pycharm": {
     "name": "#%%\n"
    }
   }
  },
  {
   "cell_type": "code",
   "execution_count": null,
   "outputs": [],
   "source": [
    "# Resimi ekranda gösteriyoruz\n",
    "cv.imshow(\"Pencerenin Ismi\", img) # pencere ismi, resim kaynağı (source)\n",
    "\n",
    "# Pencere gösterildikten sonra hemen kapanmamıs için kpdu kalvyeden bir değer girilene kadar bekletiyoruz\n",
    "cv.waitKey(0) # 0'dan büyük bir değer verirseniz eğer program o kadar süre (sn) bekler ve devam eder"
   ],
   "metadata": {
    "collapsed": false,
    "pycharm": {
     "name": "#%%\n"
    }
   }
  },
  {
   "cell_type": "code",
   "execution_count": null,
   "outputs": [],
   "source": [
    "# Resimi bilgisayara kayıt ediyoruz\n",
    "cv.imwrite(\"new_img.png\", img) # hedef dizin + dosya adı + dosya türü, resim kaynağı"
   ],
   "metadata": {
    "collapsed": false,
    "pycharm": {
     "name": "#%%\n"
    }
   }
  },
  {
   "cell_type": "markdown",
   "source": [
    "# Videolar ile İşlemler\n",
    "Bu kısmda OpenCV ile bir video içe aktarıp bunu ekranda göstereceğiz. Koda geçmeden önce bilmeniz gereken şey videoların da aslında arka arkaya gelen resimlerden oluşmasıdır. Bu bilgiyi kullanacapız.\n",
    "\n",
    "- VideoCapture()    :: videoları içe aktarır"
   ],
   "metadata": {
    "collapsed": false
   }
  },
  {
   "cell_type": "code",
   "execution_count": null,
   "outputs": [],
   "source": [
    "# OpenCV kütüphanemizi içe aktarıyoruz\n",
    "import cv2 as cv"
   ],
   "metadata": {
    "collapsed": false,
    "pycharm": {
     "name": "#%%\n"
    }
   }
  },
  {
   "cell_type": "code",
   "execution_count": null,
   "outputs": [],
   "source": [
    "cap = cv.VideoCapture(\"video.mp4\") # hedef videonun dosya konumu"
   ],
   "metadata": {
    "collapsed": false,
    "pycharm": {
     "name": "#%%\n"
    }
   }
  },
  {
   "cell_type": "code",
   "execution_count": null,
   "outputs": [],
   "source": [
    "# videodaki her bir kareyi (frame) gösterebilmek için bir döngü açıyoruz\n",
    "while True:\n",
    "    ret, frame = cap.read() # videoyu oku ve her kareyi frame değişkenine eşitle\n",
    "    \"\"\"\n",
    "    Burada ret değeri fonksiyondan bir değer dönüp dönmediğini yani videonun devam\n",
    "    edip etmediğini kontrol etmek için, frame değeri ise videonun n.turdaki karesidir.\n",
    "    Eğer ret değeri True ise resimi kullanıcıya gösterebiliriz\n",
    "    \"\"\"\n",
    "    if ret: # ret == True kısaltması\n",
    "        cv.imshow(\"Pencere ismi\", frame)\n",
    "        cv.waitkey(1)\n",
    "    else: # kamera akışı bittiği zaman döngüyü kır\n",
    "        break"
   ],
   "metadata": {
    "collapsed": false,
    "pycharm": {
     "name": "#%%\n"
    }
   }
  },
  {
   "cell_type": "code",
   "execution_count": null,
   "outputs": [],
   "source": [
    "\"\"\"\n",
    "Her şey bittikten sonra programın sistemde açtığı dosyaları düzgün şekilde kapatmalıyız.\n",
    "Bunun için ilk olarak açık olan tüm pencereleri \" destroyAllWindows() \" fonskiyonu ile\n",
    "kapatmalı ardından da video okuyan cap değişkenini \" release() \" fonksiyonu ile sonlandırmalıyız.\n",
    "\"\"\"\n",
    "cv.destroyAllWindows()\n",
    "cap.release()"
   ],
   "metadata": {
    "collapsed": false,
    "pycharm": {
     "name": "#%%\n"
    }
   }
  },
  {
   "cell_type": "code",
   "execution_count": null,
   "outputs": [],
   "source": [
    "\"\"\"\n",
    "destroyAllWindows() fonksiyonu program tarafından açılan tüm pencereleri kapatır ama eğer sadece\n",
    "bir pencere kapatmak istersenin \" destroyWindow(pencere_ismi) \" fonsksiyonunu kullanmalısınız\n",
    "\"\"\"\n",
    "#cv.destroyWindow(\"Pencere İsmi\")"
   ],
   "metadata": {
    "collapsed": false,
    "pycharm": {
     "name": "#%%\n"
    }
   }
  },
  {
   "cell_type": "markdown",
   "source": [
    "# Real-Time İşlemler\n",
    "Real-Time video görüntüsü bir kameradan canlı olarak video akışı sağlamaya denir. Burdan da anladığınız gibi bu da aslında bir video işlemi sadece video kaynağı kayıtlı bir dosya değil bir kamera olacak. Bunun içinde VideCapture(src) fonsksiyonun src (source) parametresine kameranın indeksini vermemiz gereklidir. Kamera indeksleri 0'dan başlar ve siz sisteminize ne kadar kamera takarsanız sırası ile indeksler artar."
   ],
   "metadata": {
    "collapsed": false
   }
  },
  {
   "cell_type": "code",
   "execution_count": null,
   "outputs": [],
   "source": [
    "# OpenCV kütüphanemizi içe aktarıyoruz\n",
    "import cv2 as cv"
   ],
   "metadata": {
    "collapsed": false,
    "pycharm": {
     "name": "#%%\n"
    }
   }
  },
  {
   "cell_type": "code",
   "execution_count": null,
   "outputs": [],
   "source": [
    "cap = cv.VideoCapture(0)"
   ],
   "metadata": {
    "collapsed": false,
    "pycharm": {
     "name": "#%%\n"
    }
   }
  },
  {
   "cell_type": "code",
   "execution_count": null,
   "outputs": [],
   "source": [
    "# videodaki her bir kareyi (frame) gösterebilmek için bir döngü açıyoruz\n",
    "while True:\n",
    "    ret, frame = cap.read() # videoyu oku ve her kareyi frame değişkenine eşitle\n",
    "    if ret: # ret == True kısaltması\n",
    "        cv.imshow(\"Pencere ismi\", frame)\n",
    "        \"\"\"\n",
    "        Burada yeni bir problem ortaya çıkıyor. Canlı görüntü akışının sonu yoktur, durması için kameradan görüntü akışının durması\n",
    "        veya kameranın çıkartılması gerekir. Her iki durumda programda hataya veya istenmeyen sonuçlara sebep olur. Bunun için bir\n",
    "        çıkış butonu atmalıyız. İlgili tuşa basıldıpında döngü kırılmalı ve program işlemlerine devam etmeli. Bu tuş atması da . . .\n",
    "        \"\"\"\n",
    "        if cv.waitKey(1) == ord(\"q\"): # Ben q butonuna atadım\n",
    "            break"
   ],
   "metadata": {
    "collapsed": false,
    "pycharm": {
     "name": "#%%\n"
    }
   }
  },
  {
   "cell_type": "code",
   "execution_count": null,
   "outputs": [],
   "source": [
    "cv.destroyAllWindows()\n",
    "cap.release()"
   ],
   "metadata": {
    "collapsed": false,
    "pycharm": {
     "name": "#%%\n"
    }
   }
  }
 ],
 "metadata": {
  "kernelspec": {
   "display_name": "Python 3",
   "language": "python",
   "name": "python3"
  },
  "language_info": {
   "codemirror_mode": {
    "name": "ipython",
    "version": 2
   },
   "file_extension": ".py",
   "mimetype": "text/x-python",
   "name": "python",
   "nbconvert_exporter": "python",
   "pygments_lexer": "ipython2",
   "version": "2.7.6"
  }
 },
 "nbformat": 4,
 "nbformat_minor": 0
}