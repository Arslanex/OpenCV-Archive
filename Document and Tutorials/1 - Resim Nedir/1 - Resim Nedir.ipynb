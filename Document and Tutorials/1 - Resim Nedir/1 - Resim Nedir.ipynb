{
 "cells": [
  {
   "cell_type": "code",
   "execution_count": 26,
   "outputs": [],
   "source": [
    "import cv2 as cv"
   ],
   "metadata": {
    "collapsed": false,
    "pycharm": {
     "name": "#%%\n"
    }
   }
  },
  {
   "cell_type": "markdown",
   "source": [
    "# Resim Nedir ?\n",
    "Bu döküman görüntü işlemede işlenen resimlerin bilgisayar tarafından nasıl algılandığını anlama ve bunu ile ilgli testler yapmak için hazırlanmıştır. Bildiğiniz gibi resimler insanlar için gözle görülen cisimler olsa bile bilgisayarlar için resimler çok boyutlu matrisler ve bu matrisler içersindeki değerlerden ibarettir.\n",
    "\n",
    "En temelden başlayalım bir resim piksellerden oluşur. Bir resimde ne kadar çok piksel var ise çözünürlük o kadar fazladır. Zamanımızda kullanılan çözünürlük değerlerinin piksel formları :\n",
    "\n",
    "- 720p  : 1280x720\n",
    "- 1080p : 1920x1080\n",
    "- 4k    : 3840x2160\n",
    "- 8k    : 7680x4320\n",
    "\n",
    "Peki bu değerler neyi ifade ediyor, tabi ki yatay ve dikey eksende ki renkli kutucuk yani piksel sayısını. Bir diğer bahsedilmesi gerekn şey ise kanal sayısıdır. Biliyorsunuz ki renkler RGB yani kırmızı-yeşil-mavi renklerinin birşelşimi ile oluşan renklerden oluşur. İşte dijital ortamda ki renkli fotoğraflar aynı resimin kırmızı, yeşil ve mavi tonlarını taşıyan 3 katmanın birleşmesi ile oluşur. Daha iyi anlaşılması için aşağıdaki resimi inceleyebilirsiniz.\n",
    "\n",
    "![](https://www.google.com/search?q=RGB+layers+images&sxsrf=ALiCzsbXvcYnMcCXw1_biJSdcffoaPQspA:1666338269695&source=lnms&tbm=isch&sa=X&ved=2ahUKEwjG5o_l6fD6AhVkRvEDHTUDB64Q_AUoAXoECAEQAw&biw=2048&bih=1020&dpr=0.94#imgrc=PJocS6HXKIWogM&imgdii=Yztvq2G68HacXM)\n",
    "\n",
    "işte resim denilen yapılar tam olarak bu resimdeki gib 3 katmanın arka arkaya gelmesi ile oluşur. HEr katmandaki pikseller ilgili katmana ait renk değerlerini tutar. Örneğin ilk piksel kırmızı katmanda 255, yeşil katmanda 0 ve mavi katmanda 255 değerine sahiptir. Böylece orjinal resimde ilk piksel mor renke sahip olur. İşte bu 3 kanallı bir resimdir. Bunun dışında kanalsız yada tek kanal olan siyah - beayaz resimler vardır.\n",
    "\n",
    "Videolara gelecek olursak eğer aslında birbiri ardına gelen resimlerden fazlası değildir. Videolar üzerinde işlem yaparken ilk olarak videoyu kare kare yani resim resim ayırıyor ve gene bu resimler üzerinde işlemler yapıyoruz.\n",
    "\n",
    "Şimdi OpenCV ile resimleri inceleyelim:"
   ],
   "metadata": {
    "collapsed": false
   }
  },
  {
   "cell_type": "code",
   "execution_count": 27,
   "metadata": {
    "collapsed": true
   },
   "outputs": [
    {
     "name": "stdout",
     "output_type": "stream",
     "text": [
      "En :  1280 \n",
      "Boy :  720 \n",
      "Kanal Sayısı : 3\n"
     ]
    }
   ],
   "source": [
    "# Resimi içe aktaralım\n",
    "img = cv.imread(\"images/image1.jpg\")\n",
    "height, width, channel = img.shape\n",
    "print(\"En : \",width, \"\\nBoy : \",height, \"\\nKanal Sayısı :\", channel)"
   ]
  },
  {
   "cell_type": "code",
   "execution_count": 28,
   "outputs": [
    {
     "name": "stdout",
     "output_type": "stream",
     "text": [
      "Resimin boyutu : 2764800\n",
      "Resimin veri tipi : uint8\n"
     ]
    }
   ],
   "source": [
    "print(\"Resimin boyutu :\", img.size)\n",
    "print(\"Resimin veri tipi :\",img.dtype )"
   ],
   "metadata": {
    "collapsed": false,
    "pycharm": {
     "name": "#%%\n"
    }
   }
  },
  {
   "cell_type": "markdown",
   "source": [
    "#OpenCV ile Resimler Üzerinde İşlemler\n",
    "\n",
    "## Resim Kanallarını Ayırma ve Birleştirme"
   ],
   "metadata": {
    "collapsed": false
   }
  },
  {
   "cell_type": "code",
   "execution_count": 29,
   "outputs": [],
   "source": [
    "b,g,r = cv.split(img)\n",
    "\n",
    "cv.imshow(\"Blue\", b)\n",
    "cv.imshow(\"Green\", g)\n",
    "cv.imshow(\"Red\", r)\n",
    "\n",
    "img = cv.merge((b,g,r))"
   ],
   "metadata": {
    "collapsed": false,
    "pycharm": {
     "name": "#%%\n"
    }
   }
  },
  {
   "cell_type": "markdown",
   "source": [
    "## Renk Değiştirme\n",
    "OpenCV içerisinde en çok kullanılan fonksiyon herhalde renk değiştirmeye yarayan cv.cvtColor() komutudur. Bu komut içerisine girdiğiniz resimi var olan tüm renk formatlarına çevirmenizi sağlar.\n",
    "\n",
    "Not - OpenCV ile içe aktarılan resimler RGB formatı yerine BGR formatı olarak alır."
   ],
   "metadata": {
    "collapsed": false
   }
  },
  {
   "cell_type": "code",
   "execution_count": 30,
   "outputs": [],
   "source": [
    "gray = cv.cvtColor(img, cv.COLOR_BGR2GRAY)\n",
    "hsv = cv.cvtColor(img, cv.COLOR_BGR2HSV)\n",
    "\n",
    "cv.imshow(\"Gray\", gray)\n",
    "cv.imshow(\"HSV\", hsv)"
   ],
   "metadata": {
    "collapsed": false,
    "pycharm": {
     "name": "#%%\n"
    }
   }
  },
  {
   "cell_type": "markdown",
   "source": [
    "## Resimleri Yeniden Boyutlandırma\n",
    "Resimler üzeirnde işlem yaparken genel olrak resimlerin boyları ile oynamamız gerekir. Bunun içinde cv.resize() fonksiyonunu kullanacağız."
   ],
   "metadata": {
    "collapsed": false
   }
  },
  {
   "cell_type": "code",
   "execution_count": 31,
   "outputs": [
    {
     "name": "stdout",
     "output_type": "stream",
     "text": [
      "Durum 1\n",
      "En:  1280 Boy:  720\n",
      "Yeniden Boyutlandırma\n",
      "En:  1280 Boy:  720\n"
     ]
    }
   ],
   "source": [
    "print(\"Durum 1\")\n",
    "print(\"En: \", img.shape[1], \"Boy: \", img.shape[0])\n",
    "\n",
    "print(\"Yeniden Boyutlandırma\")\n",
    "new_img = cv.resize(img, (500,500))\n",
    "print(\"En: \", img.shape[1], \"Boy: \", img.shape[0])"
   ],
   "metadata": {
    "collapsed": false,
    "pycharm": {
     "name": "#%%\n"
    }
   }
  },
  {
   "cell_type": "markdown",
   "source": [],
   "metadata": {
    "collapsed": false
   }
  }
 ],
 "metadata": {
  "kernelspec": {
   "display_name": "Python 3",
   "language": "python",
   "name": "python3"
  },
  "language_info": {
   "codemirror_mode": {
    "name": "ipython",
    "version": 2
   },
   "file_extension": ".py",
   "mimetype": "text/x-python",
   "name": "python",
   "nbconvert_exporter": "python",
   "pygments_lexer": "ipython2",
   "version": "2.7.6"
  }
 },
 "nbformat": 4,
 "nbformat_minor": 0
}